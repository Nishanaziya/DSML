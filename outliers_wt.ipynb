{
  "nbformat": 4,
  "nbformat_minor": 0,
  "metadata": {
    "colab": {
      "provenance": [],
      "authorship_tag": "ABX9TyNXIi601kLNwFb8G/E1fhhn",
      "include_colab_link": true
    },
    "kernelspec": {
      "name": "python3",
      "display_name": "Python 3"
    },
    "language_info": {
      "name": "python"
    }
  },
  "cells": [
    {
      "cell_type": "markdown",
      "metadata": {
        "id": "view-in-github",
        "colab_type": "text"
      },
      "source": [
        "<a href=\"https://colab.research.google.com/github/Nishanaziya/DSML/blob/master/outliers_wt.ipynb\" target=\"_parent\"><img src=\"https://colab.research.google.com/assets/colab-badge.svg\" alt=\"Open In Colab\"/></a>"
      ]
    },
    {
      "cell_type": "code",
      "execution_count": 1,
      "metadata": {
        "colab": {
          "base_uri": "https://localhost:8080/"
        },
        "id": "DOKWg8UvRhhL",
        "outputId": "fababffb-c0c0-47ec-cf4b-01ffeb2e8c10"
      },
      "outputs": [
        {
          "output_type": "stream",
          "name": "stdout",
          "text": [
            "Mounted at /content/drive\n"
          ]
        }
      ],
      "source": [
        "from google.colab import drive\n",
        "drive.mount('/content/drive')\n",
        "\n"
      ]
    },
    {
      "cell_type": "code",
      "source": [
        "import pandas as pd\n",
        "import numpy as np"
      ],
      "metadata": {
        "id": "Tb6Eq_lKcSe2"
      },
      "execution_count": 2,
      "outputs": []
    },
    {
      "cell_type": "code",
      "source": [
        "path='/content/drive/My Drive/dsml/outliers/weightdata.csv'\n",
        "df = pd.read_csv(path)"
      ],
      "metadata": {
        "id": "5iUBngYde3NG"
      },
      "execution_count": 6,
      "outputs": []
    },
    {
      "cell_type": "code",
      "source": [
        "def fun(data,col, a= 1.5):\n",
        "  Q1 = data[col].quantile(0.25)\n",
        "  Q3 = data[col].quantile(0.75)\n",
        "  IQR = Q3 - Q1\n",
        "  lower_limit = Q1 - a * IQR\n",
        "  upper_limit = Q3 + a * IQR\n",
        "  return data[(data[col] >= lower_limit) & (data[col] <= upper_limit)]\n",
        "\n",
        "columns =['Index', 'Weight(Pounds)']\n",
        "for col in columns:\n",
        "  df = fun(df, col)\n",
        "output = '/content/drive/My Drive/dsml/outliers/output1.csv'\n",
        "df.to_csv(output, index = False)\n",
        "\n",
        "drive.mount('/content/drive',force_remount=True)"
      ],
      "metadata": {
        "colab": {
          "base_uri": "https://localhost:8080/"
        },
        "id": "LRGDDgyUffwG",
        "outputId": "e64b4777-ea47-4ca3-fb97-95c1b93cb1e5"
      },
      "execution_count": 9,
      "outputs": [
        {
          "output_type": "stream",
          "name": "stdout",
          "text": [
            "Mounted at /content/drive\n"
          ]
        }
      ]
    }
  ]
}